{
 "cells": [
  {
   "cell_type": "code",
   "execution_count": null,
   "id": "c05f685d",
   "metadata": {},
   "outputs": [],
   "source": [
    "from typing import TypedDict, Annotated\n",
    "from langgraph.graph import add_messages, StateGraph, END\n",
    "from langchain_groq import ChatGroq\n",
    "from langchain_core.messages import AIMessage, HumanMessage\n",
    "from dotenv import load_dotenv\n",
    "from langchain_community.tools.tavily_search import TavilySearchResults\n",
    "from langgraph.prebuilt import ToolNode\n",
    "\n",
    "load_dotenv()\n",
    "\n",
    "\n",
    "class ChildState(TypedDict):\n",
    "    messages: Annotated[list, add_messages]\n",
    "\n",
    "\n",
    "search_tool = TavilySearchResults(max_results=2)\n",
    "tools = [search_tool]\n",
    "\n",
    "llm = ChatGroq(model=\"llama-3.1-8b-instant\")\n",
    "\n",
    "llm_with_tools = llm.bind_tools(tools=tools)\n",
    "\n",
    "\n",
    "def agent(state: ChildState):\n",
    "    return {\"messages\": [llm_with_tools.invoke(state[\"messages\"])]}\n",
    "\n",
    "\n",
    "def tools_router(state: ChildState):\n",
    "    last_message = state[\"messages\"][-1]\n",
    "    if hasattr(last_message, \"tool_calls\") and len(last_message.tool_calls) > 0:\n",
    "        return \"tool_node\"\n",
    "    else:\n",
    "        return END\n",
    "\n",
    "\n",
    "tool_node = ToolNode(tools=tools)\n",
    "\n",
    "subgraph = StateGraph(ChildState)\n",
    "\n",
    "\n",
    "subgraph.add_node(\"agent\", agent)\n",
    "subgraph.add_node(\"tool_node\", tool_node)\n",
    "subgraph.set_entry_point(\"agent\")\n",
    "\n",
    "subgraph.add_conditional_edges(\n",
    "    \"agent\", tools_router, {\"tool_node\": \"tool_node\", END: END}\n",
    ")\n",
    "subgraph.add_edge(\"tool_node\", \"agent\")\n",
    "\n",
    "search_app = subgraph.compile()"
   ]
  },
  {
   "cell_type": "code",
   "execution_count": null,
   "id": "45c7e853",
   "metadata": {},
   "outputs": [
    {
     "data": {
      "image/png": "[encoded data removed]",
      "text/plain": [
       "<IPython.core.display.Image object>"
      ]
     },
     "metadata": {},
     "output_type": "display_data"
    }
   ],
   "source": [
    "from IPython.display import Image, display\n",
    "from langchain_core.runnables.graph import MermaidDrawMethod\n",
    "\n",
    "display(\n",
    "    Image(search_app.get_graph().draw_mermaid_png(draw_method=MermaidDrawMethod.API))\n",
    ")"
   ]
  },
  {
   "cell_type": "code",
   "execution_count": 7,
   "id": "4352545e",
   "metadata": {},
   "outputs": [
    {
     "data": {
      "text/plain": [
       "{'messages': [HumanMessage(content='How is the weather now in Avon, CT', additional_kwargs={}, response_metadata={}, id='606fd6cc-7655-40c5-9b63-4fe1878b2da0'),\n",
       "  AIMessage(content='', additional_kwargs={'tool_calls': [{'id': 'call_498k', 'function': {'arguments': '{\"query\": \"Avon CT weather now\"}', 'name': 'tavily_search_results_json'}, 'type': 'function'}]}, response_metadata={'token_usage': {'completion_tokens': 22, 'prompt_tokens': 288, 'total_tokens': 310, 'completion_time': 0.029333333, 'prompt_time': 0.014108659, 'queue_time': 0.505306379, 'total_time': 0.043441992}, 'model_name': 'llama-3.1-8b-instant', 'system_fingerprint': 'fp_a4265e44d5', 'finish_reason': 'tool_calls', 'logprobs': None}, id='run--4e1bf5ec-4f16-4564-a28e-45fdedff8845-0', tool_calls=[{'name': 'tavily_search_results_json', 'args': {'query': 'Avon CT weather now'}, 'id': 'call_498k', 'type': 'tool_call'}], usage_metadata={'input_tokens': 288, 'output_tokens': 22, 'total_tokens': 310}),\n",
       "  ToolMessage(content='[{\"title\": \"Weather in Avon, CT\", \"url\": \"https://www.weatherapi.com/\", \"content\": \"{\\'location\\': {\\'name\\': \\'Avon\\', \\'region\\': \\'Connecticut\\', \\'country\\': \\'United States of America\\', \\'lat\\': 41.8097, \\'lon\\': -72.8311, \\'tz_id\\': \\'America/New_York\\', \\'localtime_epoch\\': 1747233007, \\'localtime\\': \\'2025-05-14 10:30\\'}, \\'current\\': {\\'last_updated_epoch\\': 1747233000, \\'last_updated\\': \\'2025-05-14 10:30\\', \\'temp_c\\': 15.6, \\'temp_f\\': 60.1, \\'is_day\\': 1, \\'condition\\': {\\'text\\': \\'Overcast\\', \\'icon\\': \\'//cdn.weatherapi.com/weather/64x64/day/122.png\\', \\'code\\': 1009}, \\'wind_mph\\': 6.0, \\'wind_kph\\': 9.7, \\'wind_degree\\': 118, \\'wind_dir\\': \\'ESE\\', \\'pressure_mb\\': 1022.0, \\'pressure_in\\': 30.18, \\'precip_mm\\': 0.0, \\'precip_in\\': 0.0, \\'humidity\\': 75, \\'cloud\\': 100, \\'feelslike_c\\': 15.6, \\'feelslike_f\\': 60.1, \\'windchill_c\\': 14.0, \\'windchill_f\\': 57.3, \\'heatindex_c\\': 14.3, \\'heatindex_f\\': 57.7, \\'dewpoint_c\\': 11.6, \\'dewpoint_f\\': 52.9, \\'vis_km\\': 16.0, \\'vis_miles\\': 9.0, \\'uv\\': 0.5, \\'gust_mph\\': 8.0, \\'gust_kph\\': 12.8}}\", \"score\": 0.9814076}, {\"title\": \"Avon 30-Day Weather Forecast - Connecticut\", \"url\": \"https://world-weather.info/forecast/usa/avon_5/month/\", \"content\": \"Monthly Weather Forecast ⚡ in Avon, Connecticut, United States for May, June 2025 . ... Wednesday, May 14. +61°. Day. +70°. Drizzle. Thursday, May 15. +63°. Day.\", \"score\": 0.9407083}]', name='tavily_search_results_json', id='ec411b55-a60b-4722-9471-763218b84ed3', tool_call_id='call_498k', artifact={'query': 'Avon CT weather now', 'follow_up_questions': None, 'answer': None, 'images': [], 'results': [{'title': 'Weather in Avon, CT', 'url': 'https://www.weatherapi.com/', 'content': \"{'location': {'name': 'Avon', 'region': 'Connecticut', 'country': 'United States of America', 'lat': 41.8097, 'lon': -72.8311, 'tz_id': 'America/New_York', 'localtime_epoch': 1747233007, 'localtime': '2025-05-14 10:30'}, 'current': {'last_updated_epoch': 1747233000, 'last_updated': '2025-05-14 10:30', 'temp_c': 15.6, 'temp_f': 60.1, 'is_day': 1, 'condition': {'text': 'Overcast', 'icon': '//cdn.weatherapi.com/weather/64x64/day/122.png', 'code': 1009}, 'wind_mph': 6.0, 'wind_kph': 9.7, 'wind_degree': 118, 'wind_dir': 'ESE', 'pressure_mb': 1022.0, 'pressure_in': 30.18, 'precip_mm': 0.0, 'precip_in': 0.0, 'humidity': 75, 'cloud': 100, 'feelslike_c': 15.6, 'feelslike_f': 60.1, 'windchill_c': 14.0, 'windchill_f': 57.3, 'heatindex_c': 14.3, 'heatindex_f': 57.7, 'dewpoint_c': 11.6, 'dewpoint_f': 52.9, 'vis_km': 16.0, 'vis_miles': 9.0, 'uv': 0.5, 'gust_mph': 8.0, 'gust_kph': 12.8}}\", 'score': 0.9814076, 'raw_content': None}, {'url': 'https://world-weather.info/forecast/usa/avon_5/month/', 'title': 'Avon 30-Day Weather Forecast - Connecticut', 'content': 'Monthly Weather Forecast ⚡ in Avon, Connecticut, United States for May, June 2025 . ... Wednesday, May 14. +61°. Day. +70°. Drizzle. Thursday, May 15. +63°. Day.', 'score': 0.9407083, 'raw_content': None}], 'response_time': 3.98}),\n",
       "  AIMessage(content='The current weather in Avon, CT is overcast with a temperature of 15.6°C (60.1°F) and a wind speed of 9.7 km/h (6.0 mph). The humidity is 75% and the feels like temperature is also 15.6°C (60.1°F).', additional_kwargs={}, response_metadata={'token_usage': {'completion_tokens': 68, 'prompt_tokens': 853, 'total_tokens': 921, 'completion_time': 0.090666667, 'prompt_time': 0.050318865, 'queue_time': 1.318755753, 'total_time': 0.140985532}, 'model_name': 'llama-3.1-8b-instant', 'system_fingerprint': 'fp_f7bd09b454', 'finish_reason': 'stop', 'logprobs': None}, id='run--d2b5bbfc-8a1d-46ce-b8de-28162c83164d-0', usage_metadata={'input_tokens': 853, 'output_tokens': 68, 'total_tokens': 921})]}"
      ]
     },
     "execution_count": 7,
     "metadata": {},
     "output_type": "execute_result"
    }
   ],
   "source": [
    "search_app.invoke({\"messages\": \"How is the weather now in Avon, CT\"})"
   ]
  },
  {
   "cell_type": "markdown",
   "id": "9e2fe715",
   "metadata": {},
   "source": [
    "**_ Shared Schema _**\n"
   ]
  },
  {
   "cell_type": "code",
   "execution_count": null,
   "id": "cbefd8bc",
   "metadata": {},
   "outputs": [
    {
     "data": {
      "text/plain": [
       "{'messages': [HumanMessage(content='What is the weather in Santiago, Chile', additional_kwargs={}, response_metadata={}, id='15cd53a3-cc30-4000-bcb4-b3265ab103c4'),\n",
       "  AIMessage(content='', additional_kwargs={'tool_calls': [{'id': 'call_8w70', 'function': {'arguments': '{\"query\": \"Santiago Chile weather\"}', 'name': 'tavily_search_results_json'}, 'type': 'function'}]}, response_metadata={'token_usage': {'completion_tokens': 21, 'prompt_tokens': 286, 'total_tokens': 307, 'completion_time': 0.028, 'prompt_time': 0.018077085, 'queue_time': 0.308748008, 'total_time': 0.046077085}, 'model_name': 'llama-3.1-8b-instant', 'system_fingerprint': 'fp_f7bd09b454', 'finish_reason': 'tool_calls', 'logprobs': None}, id='run--0d611194-136d-4a64-be8c-b3cc39414156-0', tool_calls=[{'name': 'tavily_search_results_json', 'args': {'query': 'Santiago Chile weather'}, 'id': 'call_8w70', 'type': 'tool_call'}], usage_metadata={'input_tokens': 286, 'output_tokens': 21, 'total_tokens': 307}),\n",
       "  ToolMessage(content='[{\"title\": \"Weather in Santiago, Chile\", \"url\": \"https://www.weatherapi.com/\", \"content\": \"{\\'location\\': {\\'name\\': \\'Santiago\\', \\'region\\': \\'Region Metropolitana\\', \\'country\\': \\'Chile\\', \\'lat\\': -33.45, \\'lon\\': -70.6667, \\'tz_id\\': \\'America/Santiago\\', \\'localtime_epoch\\': 1747233254, \\'localtime\\': \\'2025-05-14 10:34\\'}, \\'current\\': {\\'last_updated_epoch\\': 1747233000, \\'last_updated\\': \\'2025-05-14 10:30\\', \\'temp_c\\': 8.1, \\'temp_f\\': 46.6, \\'is_day\\': 1, \\'condition\\': {\\'text\\': \\'Fog\\', \\'icon\\': \\'//cdn.weatherapi.com/weather/64x64/day/248.png\\', \\'code\\': 1135}, \\'wind_mph\\': 2.2, \\'wind_kph\\': 3.6, \\'wind_degree\\': 234, \\'wind_dir\\': \\'SW\\', \\'pressure_mb\\': 1017.0, \\'pressure_in\\': 30.03, \\'precip_mm\\': 0.0, \\'precip_in\\': 0.0, \\'humidity\\': 100, \\'cloud\\': 75, \\'feelslike_c\\': 8.1, \\'feelslike_f\\': 46.7, \\'windchill_c\\': 16.8, \\'windchill_f\\': 62.2, \\'heatindex_c\\': 16.8, \\'heatindex_f\\': 62.2, \\'dewpoint_c\\': 6.9, \\'dewpoint_f\\': 44.3, \\'vis_km\\': 0.4, \\'vis_miles\\': 0.0, \\'uv\\': 1.5, \\'gust_mph\\': 6.7, \\'gust_kph\\': 10.8}}\", \"score\": 0.9320078}, {\"title\": \"Weather in Santiago in May 2025 - Detailed Forecast\", \"url\": \"https://www.easeweather.com/south-america/chile/santiago-metropolitan/provincia-de-santiago/santiago/may\", \"content\": \"14 May. Sunny. 21° /8°, 0 mm, 6. 15 May. Sunny. 15° /5°, 1.1 mm ... Chile · Santiago Metropolitan · Provincia de Santiago · Santiago · May. Location coordinates\", \"score\": 0.9202254}]', name='tavily_search_results_json', id='bb360689-47c8-4a3b-aa0e-451b46bf8149', tool_call_id='call_8w70', artifact={'query': 'Santiago Chile weather', 'follow_up_questions': None, 'answer': None, 'images': [], 'results': [{'title': 'Weather in Santiago, Chile', 'url': 'https://www.weatherapi.com/', 'content': \"{'location': {'name': 'Santiago', 'region': 'Region Metropolitana', 'country': 'Chile', 'lat': -33.45, 'lon': -70.6667, 'tz_id': 'America/Santiago', 'localtime_epoch': 1747233254, 'localtime': '2025-05-14 10:34'}, 'current': {'last_updated_epoch': 1747233000, 'last_updated': '2025-05-14 10:30', 'temp_c': 8.1, 'temp_f': 46.6, 'is_day': 1, 'condition': {'text': 'Fog', 'icon': '//cdn.weatherapi.com/weather/64x64/day/248.png', 'code': 1135}, 'wind_mph': 2.2, 'wind_kph': 3.6, 'wind_degree': 234, 'wind_dir': 'SW', 'pressure_mb': 1017.0, 'pressure_in': 30.03, 'precip_mm': 0.0, 'precip_in': 0.0, 'humidity': 100, 'cloud': 75, 'feelslike_c': 8.1, 'feelslike_f': 46.7, 'windchill_c': 16.8, 'windchill_f': 62.2, 'heatindex_c': 16.8, 'heatindex_f': 62.2, 'dewpoint_c': 6.9, 'dewpoint_f': 44.3, 'vis_km': 0.4, 'vis_miles': 0.0, 'uv': 1.5, 'gust_mph': 6.7, 'gust_kph': 10.8}}\", 'score': 0.9320078, 'raw_content': None}, {'url': 'https://www.easeweather.com/south-america/chile/santiago-metropolitan/provincia-de-santiago/santiago/may', 'title': 'Weather in Santiago in May 2025 - Detailed Forecast', 'content': '14 May. Sunny. 21° /8°, 0 mm, 6. 15 May. Sunny. 15° /5°, 1.1 mm ... Chile · Santiago Metropolitan · Provincia de Santiago · Santiago · May. Location coordinates', 'score': 0.9202254, 'raw_content': None}], 'response_time': 1.57}),\n",
       "  AIMessage(content='The current weather in Santiago, Chile is foggy with a temperature of 8.1°C (46.6°F) and a wind speed of 3.6 km/h (2.2 mph) from the southwest. The forecast for the next few days is mostly sunny with high temperatures of around 21°C (70°F) and low temperatures of around 8°C (46°F).', additional_kwargs={}, response_metadata={'token_usage': {'completion_tokens': 81, 'prompt_tokens': 863, 'total_tokens': 944, 'completion_time': 0.108, 'prompt_time': 0.043507004, 'queue_time': 0.236257449, 'total_time': 0.151507004}, 'model_name': 'llama-3.1-8b-instant', 'system_fingerprint': 'fp_a4265e44d5', 'finish_reason': 'stop', 'logprobs': None}, id='run--e8037ebb-b011-4861-8a08-c664117cf6a1-0', usage_metadata={'input_tokens': 863, 'output_tokens': 81, 'total_tokens': 944})]}"
      ]
     },
     "execution_count": 10,
     "metadata": {},
     "output_type": "execute_result"
    }
   ],
   "source": [
    "from typing import TypedDict, Annotated\n",
    "from langgraph.graph import add_messages, StateGraph, START, END\n",
    "from langchain_core.messages import HumanMessage\n",
    "\n",
    "\n",
    "class ParentState(TypedDict):\n",
    "    messages: Annotated[list, add_messages]\n",
    "\n",
    "\n",
    "parent_graph = StateGraph(ParentState)\n",
    "\n",
    "parent_graph.add_node(\"search_agent\", search_app)\n",
    "\n",
    "parent_graph.add_edge(START, \"search_agent\")\n",
    "parent_graph.add_edge(\"search_agent\", END)\n",
    "\n",
    "parent_app = parent_graph.compile()\n",
    "\n",
    "result = parent_app.invoke({\"messages\": \"What is the weather in Santiago, Chile\"})\n",
    "result"
   ]
  },
  {
   "cell_type": "markdown",
   "id": "75324550",
   "metadata": {},
   "source": [
    "**\\* Different Schema \\*\\***\n"
   ]
  },
  {
   "cell_type": "code",
   "execution_count": 11,
   "id": "1c5cfde4",
   "metadata": {},
   "outputs": [
    {
     "name": "stdout",
     "output_type": "stream",
     "text": [
      "{'query': 'how is the weather in Santiago, Chile?', 'response': 'Based on the search results, the weather in Santiago, Chile is currently foggy with a temperature of 8.1°C (46.6°F). However, the detailed forecast for May 2025 indicates that it will be sunny with a high temperature of 21°C (70°F) and a low temperature of 8°C (46°F) on May 14th.'}\n"
     ]
    }
   ],
   "source": [
    "from typing import TypedDict, Annotated, Dict\n",
    "from langgraph.graph import add_messages, StateGraph, START, END\n",
    "from langchain_core.messages import HumanMessage\n",
    "\n",
    "\n",
    "class QueryState(TypedDict):\n",
    "    query: str\n",
    "    response: str\n",
    "\n",
    "\n",
    "def search_agent(state: QueryState) -> Dict:\n",
    "    subgraph_input = {\"messages\": [HumanMessage(content=state[\"query\"])]}\n",
    "\n",
    "    subgraph_result = search_app.invoke(subgraph_input)\n",
    "    assistant_message = subgraph_result[\"messages\"][-1]\n",
    "    return {\"response\": assistant_message.content}\n",
    "\n",
    "parent_graph = StateGraph(QueryState)\n",
    "\n",
    "parent_graph.add_node(\"search_agent\", search_agent)\n",
    "parent_graph.add_edge(START, \"search_agent\")\n",
    "parent_graph.add_edge(\"search_agent\", END)\n",
    "\n",
    "parent_app = parent_graph.compile()\n",
    "\n",
    "result = parent_app.invoke({\"query\": \"how is the weather in Santiago, Chile?\"})\n",
    "print(result)"
   ]
  }
 ],
 "metadata": {
  "kernelspec": {
   "display_name": "venv",
   "language": "python",
   "name": "python3"
  },
  "language_info": {
   "codemirror_mode": {
    "name": "ipython",
    "version": 3
   },
   "file_extension": ".py",
   "mimetype": "text/x-python",
   "name": "python",
   "nbconvert_exporter": "python",
   "pygments_lexer": "ipython3",
   "version": "3.13.3"
  }
 },
 "nbformat": 4,
 "nbformat_minor": 5
}
