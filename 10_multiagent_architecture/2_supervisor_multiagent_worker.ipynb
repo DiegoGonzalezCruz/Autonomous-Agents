{
 "cells": [
  {
   "cell_type": "code",
   "execution_count": null,
   "id": "65593123",
   "metadata": {},
   "outputs": [],
   "source": [
    "from typing import Annotated, Sequence, List, Literal\n",
    "from pydantic import BaseModel, Field"
   ]
  }
 ],
 "metadata": {
  "language_info": {
   "name": "python"
  }
 },
 "nbformat": 4,
 "nbformat_minor": 5
}
